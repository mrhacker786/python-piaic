{
 "cells": [
  {
   "cell_type": "markdown",
   "metadata": {},
   "source": [
    "## 1. Calculate Area of a Circle"
   ]
  },
  {
   "cell_type": "markdown",
   "metadata": {},
   "source": [
    "#### Write a Python program which accepts the radius of a circle from the user and compute the area.\n",
    "###### Program Console Sample Output 1:\n",
    "###### Input Radius: 0.5\n",
    "###### Area of Circle with radius 0.5 is 0.7853981634"
   ]
  },
  {
   "cell_type": "code",
   "execution_count": 7,
   "metadata": {},
   "outputs": [
    {
     "name": "stdout",
     "output_type": "stream",
     "text": [
      "enter radius here0.5\n",
      "0.7855\n"
     ]
    }
   ],
   "source": [
    "radius=float(input(\"enter radius here\"))\n",
    "pi=3.142\n",
    "r=pi*(radius*radius)\n",
    "print(r)"
   ]
  },
  {
   "cell_type": "markdown",
   "metadata": {},
   "source": [
    "## 2. Check Number either positive, negative or zero"
   ]
  },
  {
   "cell_type": "markdown",
   "metadata": {},
   "source": [
    "#### Write a Python program to check if a number is positive, negative or zero\n",
    "###### Program Console Sample Output 1:\n",
    "###### Enter Number: -1\n",
    "##### Negative Number Entered\n",
    "###### Program Console Sample Output 2:\n",
    "##### Integer: 3\n",
    "##### Positive Number Entered\n",
    "###### Program Console Sample Output 3:\n",
    "##### Integer: 0\n",
    "###### Zero Entered"
   ]
  },
  {
   "cell_type": "code",
   "execution_count": 8,
   "metadata": {},
   "outputs": [
    {
     "name": "stdout",
     "output_type": "stream",
     "text": [
      "Enter a number9\n",
      "Positive Number Entered\n"
     ]
    }
   ],
   "source": [
    "numb = float(input(\"Enter a number\"))\n",
    "if numb == 0 :\n",
    "    print(\"Zero Entered\")\n",
    "elif numb > 0 :\n",
    "    print(\"Positive Number Entered\")\n",
    "elif numb < 0:\n",
    "    print(\"Negative Number Entered\")\n",
    "else:\n",
    "    print(\"Wrong Number Entered\")"
   ]
  },
  {
   "cell_type": "markdown",
   "metadata": {},
   "source": [
    "## 3. Divisibility Check of two numbers"
   ]
  },
  {
   "cell_type": "markdown",
   "metadata": {},
   "source": [
    "#### Write a Python program to check whether a number is completely divisible by another number. Accept two integer values form the user\n",
    "##### Program Console Sample Output 1:\n",
    "###### Enter numerator: 4\n",
    "###### Enter Denominator: 2\n",
    "##### Number 4 is Completely divisible by 2\n",
    "###### Program Console Sample Output 2:\n",
    "##### Enter numerator: 7\n",
    "\n",
    "##### Enter Denominator: 4\n",
    "###### Number 7 is not Completely divisible by 4"
   ]
  },
  {
   "cell_type": "code",
   "execution_count": 9,
   "metadata": {},
   "outputs": [
    {
     "name": "stdout",
     "output_type": "stream",
     "text": [
      "Enter Numerator6\n",
      "Enter Denominator3\n",
      "Number 6 is Completely divisible by 3\n"
     ]
    }
   ],
   "source": [
    "num1 = int(input(\"Enter Numerator\"))\n",
    "num2 = int(input(\"Enter Denominator\"))\n",
    "\n",
    "if(num1%num2 == 0):\n",
    "    print(\"Number \"+str(num1)+\" is Completely divisible by \"+str(num2))\n",
    "else :\n",
    "    print(\"Number \"+str(num1)+\" is not Completely divisible by \"+str(num2))"
   ]
  },
  {
   "cell_type": "markdown",
   "metadata": {},
   "source": [
    "## 4. Calculate Volume of a sphere"
   ]
  },
  {
   "cell_type": "markdown",
   "metadata": {},
   "source": [
    "##### Write a Python program to get the volume of a sphere, please take the radius as input from user"
   ]
  },
  {
   "cell_type": "markdown",
   "metadata": {},
   "source": [
    "##### Program Console Output:\n",
    "##### Enter Radius of Sphere: 1\n",
    "###### Volume of the Sphere with Radius 1 is 4.18"
   ]
  },
  {
   "cell_type": "code",
   "execution_count": 10,
   "metadata": {},
   "outputs": [
    {
     "name": "stdout",
     "output_type": "stream",
     "text": [
      "enter radius1\n",
      "4.189333333333333\n"
     ]
    }
   ],
   "source": [
    "radius=float(input(\"enter radius\"))\n",
    "pi=3.142\n",
    "volume=4/3*pi*(radius*radius*radius)\n",
    "print(volume)"
   ]
  },
  {
   "cell_type": "markdown",
   "metadata": {},
   "source": [
    "## 5. Copy string n times\n",
    "#### Write a Python program to get a string which is n (non-negative integer) copies of a given string.\n",
    "##### Program Console Output:\n",
    "##### Enter String: Hi\n",
    "###### How many copies of String you need: 4\n",
    "###### 4 Copies of Hi are HiHiHiHi"
   ]
  },
  {
   "cell_type": "code",
   "execution_count": 11,
   "metadata": {},
   "outputs": [
    {
     "name": "stdout",
     "output_type": "stream",
     "text": [
      "Enter a string herehi\n",
      "How many copies your want for that string4\n",
      "hihihihi\n"
     ]
    }
   ],
   "source": [
    "name = input(\"Enter a string here\")\n",
    "copy = int(input(\"How many copies your want for that string\"))\n",
    "result = name * copy\n",
    "print(result)"
   ]
  },
  {
   "cell_type": "markdown",
   "metadata": {},
   "source": [
    "## 6. Check if number is Even or Odd\n",
    "### Write a Python program to find whether a given number (accept from the user) is even or odd, print out an appropriate message to the user\n",
    "#### Program Console Output 1:\n",
    "##### Enter Number: 4\n",
    "###### 4 is Even\n",
    "#### Program Console Output 2:\n",
    "##### Enter Number: 9\n",
    "###### 9 is Odd"
   ]
  },
  {
   "cell_type": "code",
   "execution_count": 12,
   "metadata": {},
   "outputs": [
    {
     "name": "stdout",
     "output_type": "stream",
     "text": [
      "Enter A number9\n",
      "Number is Odd\n"
     ]
    }
   ],
   "source": [
    "mynum = int(input(\"Enter A number\"))\n",
    "if(mynum%2==0):\n",
    "    print(\"Number is Even\")\n",
    "else:\n",
    "    print(\"Number is Odd\")"
   ]
  },
  {
   "cell_type": "markdown",
   "metadata": {},
   "source": [
    "## 7. Vowel Tester\n",
    "### Write a Python program to test whether a passed letter is a vowel or not\n",
    "#### Program Console Output 1:\n",
    "##### Enter a character: A\n",
    "###### Letter A is Vowel\n",
    "#### Program Console Output 2:\n",
    "##### Enter a character: e\n",
    "###### Letter e is Vowel\n",
    "#### Program Console Output 2:\n",
    "##### Enter a character: N\n",
    "###### Letter N is not Vowel"
   ]
  },
  {
   "cell_type": "code",
   "execution_count": 13,
   "metadata": {},
   "outputs": [
    {
     "name": "stdout",
     "output_type": "stream",
     "text": [
      "Enter a charactera\n",
      "Letter A is Vowel\n"
     ]
    }
   ],
   "source": [
    "alphabts = [\"A\",\"E\",\"I\",\"O\",\"U\"]\n",
    "enteralpha = input(\"Enter a character\").upper()\n",
    "if enteralpha in alphabts:\n",
    "    print(\"Letter \"+enteralpha+ \" is Vowel\")\n",
    "else:\n",
    "    print(\"Letter \"+enteralpha+ \" is not Vowel\")"
   ]
  },
  {
   "cell_type": "markdown",
   "metadata": {},
   "source": [
    "## 8. Triangle area\n",
    "### Write a Python program that will accept the base and height of a triangle and compute the area\n",
    "###### Reference:\n",
    "https://www.mathgoodies.com/lessons/vol1/area_triangle"
   ]
  },
  {
   "cell_type": "code",
   "execution_count": 14,
   "metadata": {},
   "outputs": [
    {
     "name": "stdout",
     "output_type": "stream",
     "text": [
      "enter base of triangle12\n",
      "enter height of triangle24\n",
      "144.0\n"
     ]
    }
   ],
   "source": [
    "base=float(input(\"enter base of triangle\"))\n",
    "height=float(input(\"enter height of triangle\"))\n",
    "res=(height*base)/2\n",
    "print(res)"
   ]
  },
  {
   "cell_type": "markdown",
   "metadata": {},
   "source": [
    "## 9. Calculate Interest\n",
    "### Write a Python program to compute the future value of a specified principal amount, rate of interest, and a number of years\n",
    "#### Program Console Sample 1:\n",
    "##### Please enter principal amount: 10000\n",
    "###### Please Enter Rate of interest in %: 0.1\n",
    "###### Enter number of years for investment: 5\n",
    "###### After 5 years your principal amount 10000 over an interest rate of 0.1 % will be 16105.1"
   ]
  },
  {
   "cell_type": "code",
   "execution_count": 15,
   "metadata": {},
   "outputs": [
    {
     "name": "stdout",
     "output_type": "stream",
     "text": [
      "Please enter principal amount: 10000\n",
      "Please enter Rate if interest in %: 0.1\n",
      "Enter number of years for investment: 5\n",
      "After 5.0 years your principal amount 10000 over an interest rate of 0.1 will be 16105.10\n"
     ]
    }
   ],
   "source": [
    "amount = int(input('Please enter principal amount: '))\n",
    "interest = float(input('Please enter Rate if interest in %: '))\n",
    "years = float(input('Enter number of years for investment: '))\n",
    "totalprofit = amount*(1+interest)**years\n",
    "print(\"After \"+str(years)+\" years your principal amount \"+str(amount)+\" over an interest rate of \"+str(interest)+\" will be \"+\"{:.2f}\".format(totalprofit, 2))"
   ]
  },
  {
   "cell_type": "markdown",
   "metadata": {},
   "source": [
    "## 10. Euclidean distance\n",
    "### write a Python program to compute the distance between the points (x1, y1) and (x2, y2).\n",
    "#### Program Console Sample 1:\n",
    "###### Enter Co-ordinate for x1: 2\n",
    "###### Enter Co-ordinate for x2: 4\n",
    "###### Enter Co-ordinate for y1: 4\n",
    "###### Enter Co-ordinate for y2: 4\n",
    "###### Distance between points (2, 4) and (4, 4) is 2"
   ]
  },
  {
   "cell_type": "markdown",
   "metadata": {},
   "source": [
    "###### Reference:\n",
    "https://en.wikipedia.org/wiki/Euclidean_distance"
   ]
  },
  {
   "cell_type": "code",
   "execution_count": 4,
   "metadata": {},
   "outputs": [
    {
     "name": "stdout",
     "output_type": "stream",
     "text": [
      "Enter Co-ordinate for x1 :2\n",
      "Enter Co-ordinate for x2 :4\n",
      "Enter Co-ordinate for y1 :4\n",
      "Enter Co-ordinate for y2 :4\n",
      "Distance between points (2.0, 4.0) and (4.0, 4.0) is 2.0\n"
     ]
    }
   ],
   "source": [
    "import math\n",
    "x1 = float(input(\"Enter Co-ordinate for x1 :\"))\n",
    "x2 = float(input(\"Enter Co-ordinate for x2 :\"))\n",
    "y1 = float(input(\"Enter Co-ordinate for y1 :\"))\n",
    "y2 = float(input(\"Enter Co-ordinate for y2 :\"))\n",
    "\n",
    "eq1 = [x1, y1]\n",
    "eq2 = [x2, y2]\n",
    "distance = math.sqrt( ((eq1[0]-eq2[0])**2)+((eq1[1]-eq2[1])**2) )\n",
    "\n",
    "print(\"Distance between points (\"+str(x1)+\", \"+ str(y1)+\") and (\"+str(x2)+\", \"+ str(y2)+\") is \"+str(distance))"
   ]
  },
  {
   "cell_type": "markdown",
   "metadata": {},
   "source": [
    "## 11. Feet to Centimeter Converter\n",
    "### Write a Python program to convert height in feet to centimetres.\n",
    "##### Program Console Sample 1:\n",
    "###### Enter Height in Feet: 5\n",
    "###### There are 152.4 Cm in 5 ft\n",
    "###### Reference:\n",
    "https://www.rapidtables.com/convert/length/feet-to-cm.html"
   ]
  },
  {
   "cell_type": "code",
   "execution_count": 6,
   "metadata": {},
   "outputs": [
    {
     "name": "stdout",
     "output_type": "stream",
     "text": [
      "Enter Height in Feet: 5\n",
      "There are 152.4 in 5 ft\n"
     ]
    }
   ],
   "source": [
    "height = int(input('Enter Height in Feet: '))\n",
    "centi = height*30.48\n",
    "print(\"There are \"+str(centi)+\" in \"+str(height)+\" ft\")"
   ]
  },
  {
   "cell_type": "markdown",
   "metadata": {},
   "source": [
    "## 12. BMI Calculator\n",
    "### Write a Python program to calculate body mass index\n",
    "##### Program Console Sample 1:\n",
    "###### Enter Height in Cm: 180\n",
    "###### Enter Weight in Kg: 75\n",
    "###### Your BMI is 23.15"
   ]
  },
  {
   "cell_type": "code",
   "execution_count": 16,
   "metadata": {},
   "outputs": [
    {
     "name": "stdout",
     "output_type": "stream",
     "text": [
      "Enter Height in Cm: 180\n",
      "Enter Weight in Kg: 75\n",
      "Your BMI is 23.15\n"
     ]
    }
   ],
   "source": [
    "height = float(input(\"Enter Height in Cm: \"))\n",
    "weight = float(input(\"Enter Weight in Kg: \"))\n",
    "h1 = height/100\n",
    "bmi = round(weight / ((h1)**2), 2)\n",
    "print(\"Your BMI is \"+ str(bmi))"
   ]
  },
  {
   "cell_type": "markdown",
   "metadata": {},
   "source": [
    "## 13. Sum of n Positive Integers\n",
    "### Write a python program to sum of the first n positive integers\n",
    "#### Program Console Sample 1:\n",
    "###### Enter value of n: 5\n",
    "###### Sum of n Positive integers till 5 is 15"
   ]
  },
  {
   "cell_type": "code",
   "execution_count": 17,
   "metadata": {},
   "outputs": [
    {
     "name": "stdout",
     "output_type": "stream",
     "text": [
      "Enter value of n: 5\n",
      "Sum of n Positive integers till 5 is 15.0\n"
     ]
    }
   ],
   "source": [
    "n = int(input(\"Enter value of n: \"))\n",
    "sum_num = (n * (n + 1)) / 2\n",
    "print(\"Sum of n Positive integers till \"+str(n)+\" is\", sum_num)"
   ]
  },
  {
   "cell_type": "markdown",
   "metadata": {},
   "source": [
    "## 14. Digits Sum of a Number\n",
    "### Write a Python program to calculate the sum of the digits in an integer\n",
    "#### Program Console Sample 1:\n",
    "##### Enter a number: 15\n",
    "###### Sum of 1 + 5 is 6\n",
    "#### Program Console Sample 2:\n",
    "##### Enter a number: 1234\n",
    "###### Sum of 1 + 2 + 3 + 4 is 10"
   ]
  },
  {
   "cell_type": "code",
   "execution_count": 21,
   "metadata": {},
   "outputs": [
    {
     "name": "stdout",
     "output_type": "stream",
     "text": [
      "enter digit:1234\n",
      "Sum of Given number is :10\n"
     ]
    }
   ],
   "source": [
    "n=int(input(\"enter digit:\")) \n",
    "sum=0\n",
    "while n!=0 :\n",
    "    m=n%10\n",
    "    n=n/10\n",
    "    sum=int(sum+m)\n",
    "\n",
    "print(\"Sum of Given number is :\"+str(sum))"
   ]
  }
 ],
 "metadata": {
  "kernelspec": {
   "display_name": "Python 3",
   "language": "python",
   "name": "python3"
  },
  "language_info": {
   "codemirror_mode": {
    "name": "ipython",
    "version": 3
   },
   "file_extension": ".py",
   "mimetype": "text/x-python",
   "name": "python",
   "nbconvert_exporter": "python",
   "pygments_lexer": "ipython3",
   "version": "3.7.3"
  }
 },
 "nbformat": 4,
 "nbformat_minor": 2
}
